{
 "cells": [
  {
   "cell_type": "markdown",
   "metadata": {},
   "source": [
    "# MNIST Data\n",
    "### Dataset is from Kaggle's Digit Recognizer Task"
   ]
  },
  {
   "cell_type": "markdown",
   "metadata": {},
   "source": [
    "## Import Libraries"
   ]
  },
  {
   "cell_type": "code",
   "execution_count": null,
   "metadata": {},
   "outputs": [],
   "source": [
    "import pandas as pd\n",
    "import numpy as np\n",
    "import tensorflow as tf\n",
    "import matplotlib.pyplot as plt\n",
    "from tensorflow.keras.layers import Dense, Conv2D, MaxPool2D, Flatten, BatchNormalization, Dropout, Activation\n",
    "from tensorflow.keras.models import Sequential\n",
    "from tensorflow.keras.preprocessing.image import ImageDataGenerator\n",
    "from tensorflow.keras.callbacks import LearningRateScheduler\n",
    "from sklearn.model_selection import train_test_split"
   ]
  },
  {
   "cell_type": "markdown",
   "metadata": {},
   "source": [
    "## Allot GPU "
   ]
  },
  {
   "cell_type": "code",
   "execution_count": 2,
   "metadata": {},
   "outputs": [],
   "source": [
    "gpus = tf.config.experimental.list_physical_devices('GPU')\n",
    "if gpus:\n",
    "  try:\n",
    "    tf.config.experimental.set_virtual_device_configuration(gpus[0], [tf.config.experimental.VirtualDeviceConfiguration(memory_limit=2000)])\n",
    "  except RuntimeError as e:\n",
    "    print(e)"
   ]
  },
  {
   "cell_type": "markdown",
   "metadata": {},
   "source": [
    "## Importing Data and Changing it into the right format\n",
    "### Note: Test data has no labels, its predictions have to submitted to Kaggle. Hence, the training set is split later on to obtain a validation data set"
   ]
  },
  {
   "cell_type": "code",
   "execution_count": 3,
   "metadata": {},
   "outputs": [],
   "source": [
    "df = pd.read_csv('train.csv')\n",
    "df_test = pd.read_csv('test.csv')"
   ]
  },
  {
   "cell_type": "code",
   "execution_count": 4,
   "metadata": {},
   "outputs": [
    {
     "data": {
      "text/plain": [
       "((42000, 785), (28000, 784))"
      ]
     },
     "execution_count": 4,
     "metadata": {},
     "output_type": "execute_result"
    }
   ],
   "source": [
    "df.shape, df_test.shape"
   ]
  },
  {
   "cell_type": "code",
   "execution_count": 5,
   "metadata": {},
   "outputs": [],
   "source": [
    "x=df.iloc[:,1:].copy().values.reshape(df.shape[0],28,28)/255\n",
    "x_test=df_test.copy().values.reshape(df_test.shape[0],28,28)/255"
   ]
  },
  {
   "cell_type": "code",
   "execution_count": 6,
   "metadata": {},
   "outputs": [],
   "source": [
    "X=x[:,:,:,np.newaxis]\n",
    "X_test=x_test[:,:,:,np.newaxis]"
   ]
  },
  {
   "cell_type": "code",
   "execution_count": 7,
   "metadata": {},
   "outputs": [],
   "source": [
    "y=df.iloc[:,0]\n",
    "y_test=df_test.iloc[:,0]"
   ]
  },
  {
   "cell_type": "markdown",
   "metadata": {},
   "source": [
    "## Visualize a couple of images"
   ]
  },
  {
   "cell_type": "code",
   "execution_count": 8,
   "metadata": {},
   "outputs": [
    {
     "data": {
      "text/plain": [
       "Text(0.5, 0, 'Test Image 1')"
      ]
     },
     "execution_count": 8,
     "metadata": {},
     "output_type": "execute_result"
    },
    {
     "data": {
      "image/png": "[encoded data removed]",
      "text/plain": [
       "<Figure size 720x360 with 2 Axes>"
      ]
     },
     "metadata": {
      "needs_background": "light"
     },
     "output_type": "display_data"
    }
   ],
   "source": [
    "fig=plt.figure(figsize=(10,5))\n",
    "ax0=fig.add_subplot(1,2,1)\n",
    "ax1=fig.add_subplot(1,2,2)\n",
    "ax0.imshow(x[0])\n",
    "ax0.set_xlabel('Train Image 1')\n",
    "ax1.imshow(x_test[0])\n",
    "ax1.set_xlabel('Test Image 1')"
   ]
  },
  {
   "cell_type": "markdown",
   "metadata": {},
   "source": [
    "## Split the Training Data into two parts, the latter used for validation"
   ]
  },
  {
   "cell_type": "code",
   "execution_count": 9,
   "metadata": {},
   "outputs": [],
   "source": [
    "X_train, X_val, y_train, y_val = train_test_split(X, y, test_size=0.1)"
   ]
  },
  {
   "cell_type": "markdown",
   "metadata": {},
   "source": [
    "## Creation of the model\n",
    "### Uses Convolution layers along with Batch Normalization and Relu activations. Dropouts are used for regularization and a Dense layer is used in the end to obtain the final label"
   ]
  },
  {
   "cell_type": "code",
   "execution_count": 47,
   "metadata": {},
   "outputs": [],
   "source": [
    "model = Sequential()\n",
    "\n",
    "model.add(Conv2D(32, kernel_size = 3, input_shape = (28, 28, 1)))\n",
    "model.add(BatchNormalization())\n",
    "model.add(Activation('relu'))\n",
    "model.add(Conv2D(32, kernel_size = 3))\n",
    "model.add(BatchNormalization())\n",
    "model.add(Activation('relu'))\n",
    "model.add(Conv2D(32, kernel_size = 5, strides=2, padding='same'))\n",
    "model.add(BatchNormalization())\n",
    "model.add(Activation('relu'))\n",
    "model.add(Dropout(0.4))\n",
    "\n",
    "model.add(Conv2D(64, kernel_size = 3))\n",
    "model.add(BatchNormalization())\n",
    "model.add(Activation('relu'))\n",
    "model.add(Conv2D(64, kernel_size = 3))\n",
    "model.add(BatchNormalization())\n",
    "model.add(Activation('relu'))\n",
    "model.add(Conv2D(64, kernel_size = 5, strides=2, padding='same'))\n",
    "model.add(BatchNormalization())\n",
    "model.add(Activation('relu'))\n",
    "model.add(Dropout(0.4))\n",
    "\n",
    "model.add(Conv2D(128, kernel_size = 4))\n",
    "model.add(BatchNormalization())\n",
    "model.add(Activation('relu'))\n",
    "model.add(Flatten())\n",
    "model.add(Dropout(0.4))\n",
    "model.add(Dense(10, activation='softmax'))"
   ]
  },
  {
   "cell_type": "code",
   "execution_count": 48,
   "metadata": {},
   "outputs": [
    {
     "name": "stdout",
     "output_type": "stream",
     "text": [
      "Model: \"sequential_3\"\n",
      "_________________________________________________________________\n",
      "Layer (type)                 Output Shape              Param #   \n",
      "=================================================================\n",
      "conv2d_21 (Conv2D)           (None, 26, 26, 32)        320       \n",
      "_________________________________________________________________\n",
      "batch_normalization_21 (Batc (None, 26, 26, 32)        128       \n",
      "_________________________________________________________________\n",
      "activation_21 (Activation)   (None, 26, 26, 32)        0         \n",
      "_________________________________________________________________\n",
      "conv2d_22 (Conv2D)           (None, 24, 24, 32)        9248      \n",
      "_________________________________________________________________\n",
      "batch_normalization_22 (Batc (None, 24, 24, 32)        128       \n",
      "_________________________________________________________________\n",
      "activation_22 (Activation)   (None, 24, 24, 32)        0         \n",
      "_________________________________________________________________\n",
      "conv2d_23 (Conv2D)           (None, 12, 12, 32)        25632     \n",
      "_________________________________________________________________\n",
      "batch_normalization_23 (Batc (None, 12, 12, 32)        128       \n",
      "_________________________________________________________________\n",
      "activation_23 (Activation)   (None, 12, 12, 32)        0         \n",
      "_________________________________________________________________\n",
      "dropout_9 (Dropout)          (None, 12, 12, 32)        0         \n",
      "_________________________________________________________________\n",
      "conv2d_24 (Conv2D)           (None, 10, 10, 64)        18496     \n",
      "_________________________________________________________________\n",
      "batch_normalization_24 (Batc (None, 10, 10, 64)        256       \n",
      "_________________________________________________________________\n",
      "activation_24 (Activation)   (None, 10, 10, 64)        0         \n",
      "_________________________________________________________________\n",
      "conv2d_25 (Conv2D)           (None, 8, 8, 64)          36928     \n",
      "_________________________________________________________________\n",
      "batch_normalization_25 (Batc (None, 8, 8, 64)          256       \n",
      "_________________________________________________________________\n",
      "activation_25 (Activation)   (None, 8, 8, 64)          0         \n",
      "_________________________________________________________________\n",
      "conv2d_26 (Conv2D)           (None, 4, 4, 64)          102464    \n",
      "_________________________________________________________________\n",
      "batch_normalization_26 (Batc (None, 4, 4, 64)          256       \n",
      "_________________________________________________________________\n",
      "activation_26 (Activation)   (None, 4, 4, 64)          0         \n",
      "_________________________________________________________________\n",
      "dropout_10 (Dropout)         (None, 4, 4, 64)          0         \n",
      "_________________________________________________________________\n",
      "conv2d_27 (Conv2D)           (None, 1, 1, 128)         131200    \n",
      "_________________________________________________________________\n",
      "batch_normalization_27 (Batc (None, 1, 1, 128)         512       \n",
      "_________________________________________________________________\n",
      "activation_27 (Activation)   (None, 1, 1, 128)         0         \n",
      "_________________________________________________________________\n",
      "flatten_3 (Flatten)          (None, 128)               0         \n",
      "_________________________________________________________________\n",
      "dropout_11 (Dropout)         (None, 128)               0         \n",
      "_________________________________________________________________\n",
      "dense_3 (Dense)              (None, 10)                1290      \n",
      "=================================================================\n",
      "Total params: 327,242\n",
      "Trainable params: 326,410\n",
      "Non-trainable params: 832\n",
      "_________________________________________________________________\n"
     ]
    }
   ],
   "source": [
    "model.summary()"
   ]
  },
  {
   "cell_type": "markdown",
   "metadata": {},
   "source": [
    "## Creation of the ImageDataGenerator object for the purpose of data augmentation during training"
   ]
  },
  {
   "cell_type": "code",
   "execution_count": 49,
   "metadata": {},
   "outputs": [],
   "source": [
    "datagen = ImageDataGenerator(\n",
    "        rotation_range=10,  \n",
    "        zoom_range = 0.10,  \n",
    "        width_shift_range=0.1, \n",
    "        height_shift_range=0.1)"
   ]
  },
  {
   "cell_type": "markdown",
   "metadata": {},
   "source": [
    "## Fitting of the model"
   ]
  },
  {
   "cell_type": "code",
   "execution_count": 50,
   "metadata": {},
   "outputs": [],
   "source": [
    "opt=tf.keras.optimizers.Adam()\n",
    "annealer = LearningRateScheduler(lambda x: 1e-3 * 0.95 ** x)"
   ]
  },
  {
   "cell_type": "code",
   "execution_count": 51,
   "metadata": {},
   "outputs": [],
   "source": [
    "model.compile(optimizer=opt,loss='sparse_categorical_crossentropy',metrics=['accuracy'])"
   ]
  },
  {
   "cell_type": "code",
   "execution_count": 52,
   "metadata": {},
   "outputs": [
    {
     "name": "stdout",
     "output_type": "stream",
     "text": [
      "Epoch 1/50\n",
      "295/295 [==============================] - 7s 24ms/step - loss: 0.5566 - accuracy: 0.8236 - val_loss: 2.2928 - val_accuracy: 0.3455 - lr: 0.0010\n",
      "Epoch 2/50\n",
      "295/295 [==============================] - 7s 24ms/step - loss: 0.1412 - accuracy: 0.9599 - val_loss: 0.0484 - val_accuracy: 0.9869 - lr: 9.5000e-04\n",
      "Epoch 3/50\n",
      "295/295 [==============================] - 7s 24ms/step - loss: 0.1044 - accuracy: 0.9704 - val_loss: 0.0665 - val_accuracy: 0.9814 - lr: 9.0250e-04\n",
      "Epoch 4/50\n",
      "295/295 [==============================] - 7s 23ms/step - loss: 0.0856 - accuracy: 0.9762 - val_loss: 0.0356 - val_accuracy: 0.9890 - lr: 8.5737e-04\n",
      "Epoch 5/50\n",
      "295/295 [==============================] - 7s 23ms/step - loss: 0.0714 - accuracy: 0.9794 - val_loss: 0.0905 - val_accuracy: 0.9755 - lr: 8.1451e-04\n",
      "Epoch 6/50\n",
      "295/295 [==============================] - 7s 23ms/step - loss: 0.0666 - accuracy: 0.9799 - val_loss: 0.0375 - val_accuracy: 0.9888 - lr: 7.7378e-04\n",
      "Epoch 7/50\n",
      "295/295 [==============================] - 7s 23ms/step - loss: 0.0600 - accuracy: 0.9824 - val_loss: 0.0284 - val_accuracy: 0.9936 - lr: 7.3509e-04\n",
      "Epoch 8/50\n",
      "295/295 [==============================] - 7s 23ms/step - loss: 0.0573 - accuracy: 0.9830 - val_loss: 0.0238 - val_accuracy: 0.9940 - lr: 6.9834e-04\n",
      "Epoch 9/50\n",
      "295/295 [==============================] - 7s 24ms/step - loss: 0.0540 - accuracy: 0.9846 - val_loss: 0.0220 - val_accuracy: 0.9936 - lr: 6.6342e-04\n",
      "Epoch 10/50\n",
      "295/295 [==============================] - 7s 23ms/step - loss: 0.0453 - accuracy: 0.9864 - val_loss: 0.0230 - val_accuracy: 0.9921 - lr: 6.3025e-04\n",
      "Epoch 11/50\n",
      "295/295 [==============================] - 7s 23ms/step - loss: 0.0482 - accuracy: 0.9856 - val_loss: 0.0227 - val_accuracy: 0.9931 - lr: 5.9874e-04\n",
      "Epoch 12/50\n",
      "295/295 [==============================] - 7s 24ms/step - loss: 0.0401 - accuracy: 0.9882 - val_loss: 0.0263 - val_accuracy: 0.9912 - lr: 5.6880e-04\n",
      "Epoch 13/50\n",
      "295/295 [==============================] - 7s 23ms/step - loss: 0.0400 - accuracy: 0.9884 - val_loss: 0.0325 - val_accuracy: 0.9902 - lr: 5.4036e-04\n",
      "Epoch 14/50\n",
      "295/295 [==============================] - 7s 23ms/step - loss: 0.0399 - accuracy: 0.9878 - val_loss: 0.0256 - val_accuracy: 0.9929 - lr: 5.1334e-04\n",
      "Epoch 15/50\n",
      "295/295 [==============================] - 7s 23ms/step - loss: 0.0388 - accuracy: 0.9883 - val_loss: 0.0328 - val_accuracy: 0.9905 - lr: 4.8767e-04\n",
      "Epoch 16/50\n",
      "295/295 [==============================] - 7s 24ms/step - loss: 0.0386 - accuracy: 0.9888 - val_loss: 0.0241 - val_accuracy: 0.9921 - lr: 4.6329e-04\n",
      "Epoch 17/50\n",
      "295/295 [==============================] - 7s 23ms/step - loss: 0.0361 - accuracy: 0.9896 - val_loss: 0.0236 - val_accuracy: 0.9945 - lr: 4.4013e-04\n",
      "Epoch 18/50\n",
      "295/295 [==============================] - 7s 23ms/step - loss: 0.0338 - accuracy: 0.9906 - val_loss: 0.0183 - val_accuracy: 0.9940 - lr: 4.1812e-04\n",
      "Epoch 19/50\n",
      "295/295 [==============================] - 7s 24ms/step - loss: 0.0330 - accuracy: 0.9899 - val_loss: 0.0288 - val_accuracy: 0.9912 - lr: 3.9721e-04\n",
      "Epoch 20/50\n",
      "295/295 [==============================] - 7s 23ms/step - loss: 0.0317 - accuracy: 0.9903 - val_loss: 0.0148 - val_accuracy: 0.9952 - lr: 3.7735e-04\n",
      "Epoch 21/50\n",
      "295/295 [==============================] - 7s 24ms/step - loss: 0.0277 - accuracy: 0.9916 - val_loss: 0.0213 - val_accuracy: 0.9931 - lr: 3.5849e-04\n",
      "Epoch 22/50\n",
      "295/295 [==============================] - 7s 24ms/step - loss: 0.0297 - accuracy: 0.9911 - val_loss: 0.0180 - val_accuracy: 0.9943 - lr: 3.4056e-04\n",
      "Epoch 23/50\n",
      "295/295 [==============================] - 7s 25ms/step - loss: 0.0285 - accuracy: 0.9921 - val_loss: 0.0169 - val_accuracy: 0.9952 - lr: 3.2353e-04\n",
      "Epoch 24/50\n",
      "295/295 [==============================] - 7s 25ms/step - loss: 0.0303 - accuracy: 0.9915 - val_loss: 0.0184 - val_accuracy: 0.9943 - lr: 3.0736e-04\n",
      "Epoch 25/50\n",
      "295/295 [==============================] - 7s 24ms/step - loss: 0.0268 - accuracy: 0.9920 - val_loss: 0.0178 - val_accuracy: 0.9952 - lr: 2.9199e-04\n",
      "Epoch 26/50\n",
      "295/295 [==============================] - 8s 26ms/step - loss: 0.0254 - accuracy: 0.9922 - val_loss: 0.0163 - val_accuracy: 0.9955 - lr: 2.7739e-04\n",
      "Epoch 27/50\n",
      "295/295 [==============================] - 8s 26ms/step - loss: 0.0251 - accuracy: 0.9924 - val_loss: 0.0193 - val_accuracy: 0.9955 - lr: 2.6352e-04\n",
      "Epoch 28/50\n",
      "295/295 [==============================] - 8s 26ms/step - loss: 0.0238 - accuracy: 0.9930 - val_loss: 0.0148 - val_accuracy: 0.9955 - lr: 2.5034e-04\n",
      "Epoch 29/50\n",
      "295/295 [==============================] - 7s 25ms/step - loss: 0.0217 - accuracy: 0.9933 - val_loss: 0.0217 - val_accuracy: 0.9938 - lr: 2.3783e-04\n",
      "Epoch 30/50\n",
      "295/295 [==============================] - 7s 25ms/step - loss: 0.0232 - accuracy: 0.9931 - val_loss: 0.0172 - val_accuracy: 0.9943 - lr: 2.2594e-04\n",
      "Epoch 31/50\n",
      "295/295 [==============================] - 7s 25ms/step - loss: 0.0223 - accuracy: 0.9931 - val_loss: 0.0169 - val_accuracy: 0.9952 - lr: 2.1464e-04\n",
      "Epoch 32/50\n",
      "295/295 [==============================] - 7s 24ms/step - loss: 0.0213 - accuracy: 0.9936 - val_loss: 0.0224 - val_accuracy: 0.9929 - lr: 2.0391e-04\n",
      "Epoch 33/50\n",
      "295/295 [==============================] - 8s 26ms/step - loss: 0.0208 - accuracy: 0.9937 - val_loss: 0.0180 - val_accuracy: 0.9948 - lr: 1.9371e-04\n",
      "Epoch 34/50\n",
      "295/295 [==============================] - 8s 26ms/step - loss: 0.0219 - accuracy: 0.9936 - val_loss: 0.0174 - val_accuracy: 0.9952 - lr: 1.8403e-04\n",
      "Epoch 35/50\n",
      "295/295 [==============================] - 7s 25ms/step - loss: 0.0208 - accuracy: 0.9937 - val_loss: 0.0146 - val_accuracy: 0.9960 - lr: 1.7482e-04\n",
      "Epoch 36/50\n",
      "295/295 [==============================] - 8s 27ms/step - loss: 0.0206 - accuracy: 0.9937 - val_loss: 0.0157 - val_accuracy: 0.9948 - lr: 1.6608e-04\n",
      "Epoch 37/50\n",
      "295/295 [==============================] - 8s 26ms/step - loss: 0.0185 - accuracy: 0.9947 - val_loss: 0.0153 - val_accuracy: 0.9960 - lr: 1.5778e-04\n",
      "Epoch 38/50\n",
      "295/295 [==============================] - 7s 25ms/step - loss: 0.0188 - accuracy: 0.9943 - val_loss: 0.0148 - val_accuracy: 0.9950 - lr: 1.4989e-04\n",
      "Epoch 39/50\n",
      "295/295 [==============================] - 8s 27ms/step - loss: 0.0192 - accuracy: 0.9943 - val_loss: 0.0186 - val_accuracy: 0.9948 - lr: 1.4240e-04\n",
      "Epoch 40/50\n",
      "295/295 [==============================] - 7s 25ms/step - loss: 0.0183 - accuracy: 0.9944 - val_loss: 0.0157 - val_accuracy: 0.9952 - lr: 1.3528e-04\n",
      "Epoch 41/50\n",
      "295/295 [==============================] - 7s 24ms/step - loss: 0.0169 - accuracy: 0.9948 - val_loss: 0.0152 - val_accuracy: 0.9955 - lr: 1.2851e-04\n",
      "Epoch 42/50\n",
      "295/295 [==============================] - 8s 26ms/step - loss: 0.0173 - accuracy: 0.9948 - val_loss: 0.0148 - val_accuracy: 0.9955 - lr: 1.2209e-04\n",
      "Epoch 43/50\n",
      "295/295 [==============================] - 7s 25ms/step - loss: 0.0158 - accuracy: 0.9953 - val_loss: 0.0162 - val_accuracy: 0.9943 - lr: 1.1598e-04\n",
      "Epoch 44/50\n",
      "295/295 [==============================] - 7s 25ms/step - loss: 0.0171 - accuracy: 0.9946 - val_loss: 0.0149 - val_accuracy: 0.9960 - lr: 1.1018e-04\n",
      "Epoch 45/50\n",
      "295/295 [==============================] - 8s 26ms/step - loss: 0.0172 - accuracy: 0.9950 - val_loss: 0.0161 - val_accuracy: 0.9950 - lr: 1.0467e-04\n",
      "Epoch 46/50\n",
      "295/295 [==============================] - 7s 25ms/step - loss: 0.0166 - accuracy: 0.9950 - val_loss: 0.0172 - val_accuracy: 0.9957 - lr: 9.9440e-05\n",
      "Epoch 47/50\n",
      "295/295 [==============================] - 8s 26ms/step - loss: 0.0144 - accuracy: 0.9959 - val_loss: 0.0147 - val_accuracy: 0.9960 - lr: 9.4468e-05\n",
      "Epoch 48/50\n",
      "295/295 [==============================] - 8s 27ms/step - loss: 0.0149 - accuracy: 0.9955 - val_loss: 0.0176 - val_accuracy: 0.9952 - lr: 8.9745e-05\n",
      "Epoch 49/50\n",
      "295/295 [==============================] - 8s 27ms/step - loss: 0.0156 - accuracy: 0.9957 - val_loss: 0.0156 - val_accuracy: 0.9955 - lr: 8.5258e-05\n",
      "Epoch 50/50\n",
      "295/295 [==============================] - 8s 26ms/step - loss: 0.0172 - accuracy: 0.9951 - val_loss: 0.0151 - val_accuracy: 0.9955 - lr: 8.0995e-05\n"
     ]
    },
    {
     "data": {
      "text/plain": [
       "<tensorflow.python.keras.callbacks.History at 0x7f2b204f4f50>"
      ]
     },
     "execution_count": 52,
     "metadata": {},
     "output_type": "execute_result"
    }
   ],
   "source": [
    "model.fit(datagen.flow(X_train,y_train,batch_size=128),validation_data=(X_val,y_val),\n",
    "          epochs=50,steps_per_epoch=X_train.shape[0]//128,callbacks=[annealer])"
   ]
  },
  {
   "cell_type": "markdown",
   "metadata": {},
   "source": [
    "## Plotting the results"
   ]
  },
  {
   "cell_type": "code",
   "execution_count": 53,
   "metadata": {},
   "outputs": [
    {
     "data": {
      "text/plain": [
       "<matplotlib.axes._subplots.AxesSubplot at 0x7f2b200a5550>"
      ]
     },
     "execution_count": 53,
     "metadata": {},
     "output_type": "execute_result"
    },
    {
     "data": {
      "image/png": "[encoded data removed]",
      "text/plain": [
       "<Figure size 432x288 with 1 Axes>"
      ]
     },
     "metadata": {
      "needs_background": "light"
     },
     "output_type": "display_data"
    }
   ],
   "source": [
    "df=pd.DataFrame(model.history.history)\n",
    "df[['loss','val_loss']].plot()"
   ]
  },
  {
   "cell_type": "code",
   "execution_count": 54,
   "metadata": {},
   "outputs": [
    {
     "data": {
      "text/plain": [
       "<matplotlib.axes._subplots.AxesSubplot at 0x7f2b147a98d0>"
      ]
     },
     "execution_count": 54,
     "metadata": {},
     "output_type": "execute_result"
    },
    {
     "data": {
      "image/png": "[encoded data removed]",
      "text/plain": [
       "<Figure size 432x288 with 1 Axes>"
      ]
     },
     "metadata": {
      "needs_background": "light"
     },
     "output_type": "display_data"
    }
   ],
   "source": [
    "df[['accuracy','val_accuracy']].plot()"
   ]
  },
  {
   "cell_type": "markdown",
   "metadata": {},
   "source": [
    "## Predicting the labels for the test data"
   ]
  },
  {
   "cell_type": "code",
   "execution_count": 55,
   "metadata": {},
   "outputs": [],
   "source": [
    "predictions = model.predict(X_test)"
   ]
  },
  {
   "cell_type": "markdown",
   "metadata": {},
   "source": [
    "## Cleaning and saving the test data labels to csv"
   ]
  },
  {
   "cell_type": "code",
   "execution_count": 56,
   "metadata": {},
   "outputs": [
    {
     "data": {
      "text/html": [
       "<div>\n",
       "<style scoped>\n",
       "    .dataframe tbody tr th:only-of-type {\n",
       "        vertical-align: middle;\n",
       "    }\n",
       "\n",
       "    .dataframe tbody tr th {\n",
       "        vertical-align: top;\n",
       "    }\n",
       "\n",
       "    .dataframe thead th {\n",
       "        text-align: right;\n",
       "    }\n",
       "</style>\n",
       "<table border=\"1\" class=\"dataframe\">\n",
       "  <thead>\n",
       "    <tr style=\"text-align: right;\">\n",
       "      <th></th>\n",
       "      <th>Label</th>\n",
       "    </tr>\n",
       "    <tr>\n",
       "      <th>ImageID</th>\n",
       "      <th></th>\n",
       "    </tr>\n",
       "  </thead>\n",
       "  <tbody>\n",
       "    <tr>\n",
       "      <th>1</th>\n",
       "      <td>2</td>\n",
       "    </tr>\n",
       "    <tr>\n",
       "      <th>2</th>\n",
       "      <td>0</td>\n",
       "    </tr>\n",
       "    <tr>\n",
       "      <th>3</th>\n",
       "      <td>9</td>\n",
       "    </tr>\n",
       "    <tr>\n",
       "      <th>4</th>\n",
       "      <td>0</td>\n",
       "    </tr>\n",
       "    <tr>\n",
       "      <th>5</th>\n",
       "      <td>3</td>\n",
       "    </tr>\n",
       "    <tr>\n",
       "      <th>...</th>\n",
       "      <td>...</td>\n",
       "    </tr>\n",
       "    <tr>\n",
       "      <th>27996</th>\n",
       "      <td>9</td>\n",
       "    </tr>\n",
       "    <tr>\n",
       "      <th>27997</th>\n",
       "      <td>7</td>\n",
       "    </tr>\n",
       "    <tr>\n",
       "      <th>27998</th>\n",
       "      <td>3</td>\n",
       "    </tr>\n",
       "    <tr>\n",
       "      <th>27999</th>\n",
       "      <td>9</td>\n",
       "    </tr>\n",
       "    <tr>\n",
       "      <th>28000</th>\n",
       "      <td>2</td>\n",
       "    </tr>\n",
       "  </tbody>\n",
       "</table>\n",
       "<p>28000 rows × 1 columns</p>\n",
       "</div>"
      ],
      "text/plain": [
       "         Label\n",
       "ImageID       \n",
       "1            2\n",
       "2            0\n",
       "3            9\n",
       "4            0\n",
       "5            3\n",
       "...        ...\n",
       "27996        9\n",
       "27997        7\n",
       "27998        3\n",
       "27999        9\n",
       "28000        2\n",
       "\n",
       "[28000 rows x 1 columns]"
      ]
     },
     "execution_count": 56,
     "metadata": {},
     "output_type": "execute_result"
    }
   ],
   "source": [
    "test_predictions = pd.DataFrame(predictions.argmax(axis=1))\n",
    "test_predictions.columns=['Label']\n",
    "test_predictions.index=np.arange(1,28001)\n",
    "test_predictions.index.name = 'ImageID'\n",
    "test_predictions"
   ]
  },
  {
   "cell_type": "code",
   "execution_count": 57,
   "metadata": {},
   "outputs": [],
   "source": [
    "test_predictions.to_csv('submission.csv')"
   ]
  }
 ],
 "metadata": {
  "kernelspec": {
   "display_name": "Python 3",
   "language": "python",
   "name": "python3"
  },
  "language_info": {
   "codemirror_mode": {
    "name": "ipython",
    "version": 3
   },
   "file_extension": ".py",
   "mimetype": "text/x-python",
   "name": "python",
   "nbconvert_exporter": "python",
   "pygments_lexer": "ipython3",
   "version": "3.7.6"
  }
 },
 "nbformat": 4,
 "nbformat_minor": 4
}
